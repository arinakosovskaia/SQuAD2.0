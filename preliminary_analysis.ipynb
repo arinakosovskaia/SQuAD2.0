{
  "nbformat": 4,
  "nbformat_minor": 0,
  "metadata": {
    "colab": {
      "provenance": [],
      "authorship_tag": "ABX9TyOGrsVLbrWRpYlcUYRmwg/I",
      "include_colab_link": true
    },
    "kernelspec": {
      "name": "python3",
      "display_name": "Python 3"
    },
    "language_info": {
      "name": "python"
    }
  },
  "cells": [
    {
      "cell_type": "markdown",
      "metadata": {
        "id": "view-in-github",
        "colab_type": "text"
      },
      "source": [
        "<a href=\"https://colab.research.google.com/github/arinakosovskaia/SQuAD2.0/blob/main/preliminary_analysis.ipynb\" target=\"_parent\"><img src=\"https://colab.research.google.com/assets/colab-badge.svg\" alt=\"Open In Colab\"/></a>"
      ]
    },
    {
      "cell_type": "code",
      "execution_count": 1,
      "metadata": {
        "colab": {
          "base_uri": "https://localhost:8080/"
        },
        "id": "6afIyknBvw8W",
        "outputId": "5b4cbe58-ed94-41a8-b596-4e3c6ff1f414"
      },
      "outputs": [
        {
          "output_type": "stream",
          "name": "stdout",
          "text": [
            "Drive already mounted at /content/drive; to attempt to forcibly remount, call drive.mount(\"/content/drive\", force_remount=True).\n"
          ]
        }
      ],
      "source": [
        "from google.colab import drive\n",
        "drive.mount('/content/drive')"
      ]
    },
    {
      "cell_type": "code",
      "source": [
        "import os\n",
        "os.chdir('/content/drive/MyDrive/Colab Notebooks/Practical_00')\n",
        "os.getcwd()"
      ],
      "metadata": {
        "colab": {
          "base_uri": "https://localhost:8080/",
          "height": 35
        },
        "id": "99Qzbx66M_cv",
        "outputId": "293d4a12-30fe-47c8-ac18-57037399ab96"
      },
      "execution_count": 4,
      "outputs": [
        {
          "output_type": "execute_result",
          "data": {
            "text/plain": [
              "'/content/drive/MyDrive/Colab Notebooks/Practical_00'"
            ],
            "application/vnd.google.colaboratory.intrinsic+json": {
              "type": "string"
            }
          },
          "metadata": {},
          "execution_count": 4
        }
      ]
    },
    {
      "cell_type": "code",
      "source": [
        "!pip -q install datasets"
      ],
      "metadata": {
        "id": "nNycQvN9EUeI"
      },
      "execution_count": 5,
      "outputs": []
    },
    {
      "cell_type": "markdown",
      "source": [
        "# **1. Preliminary analysis:**\n",
        "Briefly describe the dataset:\n",
        "- what type of documents does it contain?\n",
        "- how many documents are there?\n",
        "- calculate and visualise some simple statistics for the collection, e.g. the average\n",
        "document length, the average vocabulary size, etc.\n",
        "Play around with documents, using some of the code from the early parts of the course. You could, for example:\n",
        "- cluster the documents and visualise the clusters to see what types of groups are present (or whether the known classes can be found);\n",
        "- index the documents so that you can perform keyword search over them;\n",
        "- train a Word2Vec embedding on the data and investigate the properties of the resulting\n",
        "embedding.\n",
        "\n",
        "NB: followed the ideas from here https://towardsdatascience.com/use-the-datasets-library-of-hugging-face-in-your-next-nlp-project-94e300cca850"
      ],
      "metadata": {
        "id": "m-W3LntbFfej"
      }
    },
    {
      "cell_type": "code",
      "source": [
        "from datasets import load_dataset\n",
        "squad_train = load_dataset('squad_v2', split = 'train')\n",
        "squad_valid = load_dataset('squad_v2', split = 'validation')\n",
        "squad_train[0]"
      ],
      "metadata": {
        "colab": {
          "base_uri": "https://localhost:8080/"
        },
        "id": "ajS1w7bhEU4r",
        "outputId": "9f9e2c99-9c57-458e-be9a-082a5438591b"
      },
      "execution_count": 17,
      "outputs": [
        {
          "output_type": "stream",
          "name": "stderr",
          "text": [
            "WARNING:datasets.builder:Found cached dataset squad_v2 (/root/.cache/huggingface/datasets/squad_v2/squad_v2/2.0.0/09187c73c1b837c95d9a249cd97c2c3f1cebada06efe667b4427714b27639b1d)\n",
            "WARNING:datasets.builder:Found cached dataset squad_v2 (/root/.cache/huggingface/datasets/squad_v2/squad_v2/2.0.0/09187c73c1b837c95d9a249cd97c2c3f1cebada06efe667b4427714b27639b1d)\n"
          ]
        },
        {
          "output_type": "execute_result",
          "data": {
            "text/plain": [
              "{'id': '56ddde6b9a695914005b9628',\n",
              " 'title': 'Normans',\n",
              " 'context': 'The Normans (Norman: Nourmands; French: Normands; Latin: Normanni) were the people who in the 10th and 11th centuries gave their name to Normandy, a region in France. They were descended from Norse (\"Norman\" comes from \"Norseman\") raiders and pirates from Denmark, Iceland and Norway who, under their leader Rollo, agreed to swear fealty to King Charles III of West Francia. Through generations of assimilation and mixing with the native Frankish and Roman-Gaulish populations, their descendants would gradually merge with the Carolingian-based cultures of West Francia. The distinct cultural and ethnic identity of the Normans emerged initially in the first half of the 10th century, and it continued to evolve over the succeeding centuries.',\n",
              " 'question': 'In what country is Normandy located?',\n",
              " 'answers': {'text': ['France', 'France', 'France', 'France'],\n",
              "  'answer_start': [159, 159, 159, 159]}}"
            ]
          },
          "metadata": {},
          "execution_count": 17
        }
      ]
    },
    {
      "cell_type": "code",
      "source": [
        "print(\"Length of the validation set: \", len(squad_valid))\n",
        "print(\"Length of the training set: \", len(squad_train))"
      ],
      "metadata": {
        "colab": {
          "base_uri": "https://localhost:8080/"
        },
        "id": "Yzk9okRkNjt5",
        "outputId": "1e00daf6-5fa9-4db3-dc93-a83c151a4a28"
      },
      "execution_count": 18,
      "outputs": [
        {
          "output_type": "stream",
          "name": "stdout",
          "text": [
            "Length of the validation set:  11873\n",
            "Length of the training set:  130319\n"
          ]
        }
      ]
    },
    {
      "cell_type": "code",
      "source": [
        "from pprint import pprint\n",
        "print(\"Two examples from the dataset using slice operation: \\n\")\n",
        "pprint(squad_train[14:16])"
      ],
      "metadata": {
        "colab": {
          "base_uri": "https://localhost:8080/"
        },
        "id": "URIiGKGrTE8S",
        "outputId": "1f97c684-e7ca-466c-d854-37da460a78be"
      },
      "execution_count": 24,
      "outputs": [
        {
          "output_type": "stream",
          "name": "stdout",
          "text": [
            "Two examples from the dataset using slice operation: \n",
            "\n",
            "{'answers': [{'answer_start': [505], 'text': ['Dangerously in Love']},\n",
            "             {'answer_start': [207], 'text': ['acting']}],\n",
            " 'context': ['Beyoncé Giselle Knowles-Carter (/biːˈjɒnseɪ/ bee-YON-say) (born '\n",
            "             'September 4, 1981) is an American singer, songwriter, record '\n",
            "             'producer and actress. Born and raised in Houston, Texas, she '\n",
            "             'performed in various singing and dancing competitions as a '\n",
            "             'child, and rose to fame in the late 1990s as lead singer of R&B '\n",
            "             \"girl-group Destiny's Child. Managed by her father, Mathew \"\n",
            "             \"Knowles, the group became one of the world's best-selling girl \"\n",
            "             \"groups of all time. Their hiatus saw the release of Beyoncé's \"\n",
            "             'debut album, Dangerously in Love (2003), which established her '\n",
            "             'as a solo artist worldwide, earned five Grammy Awards and '\n",
            "             'featured the Billboard Hot 100 number-one singles \"Crazy in '\n",
            "             'Love\" and \"Baby Boy\".',\n",
            "             \"Following the disbandment of Destiny's Child in June 2005, she \"\n",
            "             \"released her second solo album, B'Day (2006), which contained \"\n",
            "             'hits \"Déjà Vu\", \"Irreplaceable\", and \"Beautiful Liar\". Beyoncé '\n",
            "             'also ventured into acting, with a Golden Globe-nominated '\n",
            "             'performance in Dreamgirls (2006), and starring roles in The Pink '\n",
            "             'Panther (2006) and Obsessed (2009). Her marriage to rapper Jay Z '\n",
            "             'and portrayal of Etta James in Cadillac Records (2008) '\n",
            "             'influenced her third album, I Am... Sasha Fierce (2008), which '\n",
            "             'saw the birth of her alter-ego Sasha Fierce and earned a '\n",
            "             'record-setting six Grammy Awards in 2010, including Song of the '\n",
            "             'Year for \"Single Ladies (Put a Ring on It)\". Beyoncé took a '\n",
            "             'hiatus from music in 2010 and took over management of her '\n",
            "             'career; her fourth album 4 (2011) was subsequently mellower in '\n",
            "             'tone, exploring 1970s funk, 1980s pop, and 1990s soul. Her '\n",
            "             'critically acclaimed fifth studio album, Beyoncé (2013), was '\n",
            "             'distinguished from previous releases by its experimental '\n",
            "             'production and exploration of darker themes.'],\n",
            " 'id': ['56d43ce42ccc5a1400d830b5', '56be86cf3aeaaa14008c9076'],\n",
            " 'question': [\"What was the name of Beyoncé's first solo album?\",\n",
            "              'After her second solo album, what other entertainment venture '\n",
            "              'did Beyonce explore?'],\n",
            " 'title': ['Beyoncé', 'Beyoncé']}\n"
          ]
        }
      ]
    },
    {
      "cell_type": "code",
      "source": [
        "print(\"A column slice from the dataset: \\n\")\n",
        "pprint(squad_train['question'][:5])"
      ],
      "metadata": {
        "colab": {
          "base_uri": "https://localhost:8080/"
        },
        "id": "FVxCA9goTNuA",
        "outputId": "4a68b0e0-4352-4284-a98e-95cc22fd9be4"
      },
      "execution_count": 25,
      "outputs": [
        {
          "output_type": "stream",
          "name": "stdout",
          "text": [
            "A column slice from the dataset: \n",
            "\n",
            "['When did Beyonce start becoming popular?',\n",
            " 'What areas did Beyonce compete in when she was growing up?',\n",
            " \"When did Beyonce leave Destiny's Child and become a solo singer?\",\n",
            " 'In what city and state did Beyonce  grow up? ',\n",
            " 'In which decade did Beyonce become famous?']\n"
          ]
        }
      ]
    },
    {
      "cell_type": "code",
      "source": [
        "print(\"Features: \")\n",
        "pprint(squad_train.features)\n",
        "print(\"Column names: \", squad_train.column_names)"
      ],
      "metadata": {
        "colab": {
          "base_uri": "https://localhost:8080/"
        },
        "id": "vtBwuo4lVanA",
        "outputId": "f230c25d-7207-44ab-9995-cc63ba3bf795"
      },
      "execution_count": 26,
      "outputs": [
        {
          "output_type": "stream",
          "name": "stdout",
          "text": [
            "Features: \n",
            "{'answers': Sequence(feature={'answer_start': Value(dtype='int32', id=None),\n",
            "                              'text': Value(dtype='string', id=None)},\n",
            "                     length=-1,\n",
            "                     id=None),\n",
            " 'context': Value(dtype='string', id=None),\n",
            " 'id': Value(dtype='string', id=None),\n",
            " 'question': Value(dtype='string', id=None),\n",
            " 'title': Value(dtype='string', id=None)}\n",
            "Column names:  ['id', 'title', 'context', 'question', 'answers']\n"
          ]
        }
      ]
    },
    {
      "cell_type": "code",
      "source": [
        "print(\"Number of rows: \", squad_train.num_rows)\n",
        "print(\"Number of columns: \", squad_train.num_columns)\n",
        "print(\"Shape: \", squad_train.shape)"
      ],
      "metadata": {
        "colab": {
          "base_uri": "https://localhost:8080/"
        },
        "id": "FeTH57h2Vnkq",
        "outputId": "9ced3ab2-d8b5-40be-c344-a7008d9bb0cf"
      },
      "execution_count": 27,
      "outputs": [
        {
          "output_type": "stream",
          "name": "stdout",
          "text": [
            "Number of rows:  130319\n",
            "Number of columns:  5\n",
            "Shape:  (130319, 5)\n"
          ]
        }
      ]
    },
    {
      "cell_type": "code",
      "source": [
        "import random\n",
        "import pandas as pd\n",
        "from IPython.display import display, HTML\n",
        "\n",
        "def display_random_examples(squad_train, num_examples=15):\n",
        "    assert num_examples < len(squad_train)\n",
        "    \n",
        "    random_picks = []\n",
        "    count = 0\n",
        "    for i in range(len(squad_train)):\n",
        "        example = squad_train[i]\n",
        "        if len(example['answers']['text']) == 0:\n",
        "            random_picks.append(i)\n",
        "            count += 1\n",
        "            if count == num_examples:\n",
        "                break\n",
        "    \n",
        "    if len(random_picks) == 0:\n",
        "        print(\"No examples found with empty answers.\")\n",
        "        return\n",
        "    \n",
        "    df = pd.DataFrame(squad_train[random_picks])\n",
        "    display(HTML(df.to_html()))\n",
        "\n",
        "display_random_examples(squad_train, 3)"
      ],
      "metadata": {
        "colab": {
          "base_uri": "https://localhost:8080/",
          "height": 456
        },
        "id": "xeprwDhSYBAl",
        "outputId": "bced1e8d-e466-49f6-e2f8-05327f31acdc"
      },
      "execution_count": 38,
      "outputs": [
        {
          "output_type": "display_data",
          "data": {
            "text/plain": [
              "<IPython.core.display.HTML object>"
            ],
            "text/html": [
              "<table border=\"1\" class=\"dataframe\">\n",
              "  <thead>\n",
              "    <tr style=\"text-align: right;\">\n",
              "      <th></th>\n",
              "      <th>id</th>\n",
              "      <th>title</th>\n",
              "      <th>context</th>\n",
              "      <th>question</th>\n",
              "      <th>answers</th>\n",
              "    </tr>\n",
              "  </thead>\n",
              "  <tbody>\n",
              "    <tr>\n",
              "      <th>0</th>\n",
              "      <td>5a8d7bf7df8bba001a0f9ab1</td>\n",
              "      <td>The_Legend_of_Zelda:_Twilight_Princess</td>\n",
              "      <td>The Legend of Zelda: Twilight Princess (Japanese: ゼルダの伝説 トワイライトプリンセス, Hepburn: Zeruda no Densetsu: Towairaito Purinsesu?) is an action-adventure game developed and published by Nintendo for the GameCube and Wii home video game consoles. It is the thirteenth installment in the The Legend of Zelda series. Originally planned for release on the GameCube in November 2005, Twilight Princess was delayed by Nintendo to allow its developers to refine the game, add more content, and port it to the Wii. The Wii version was released alongside the console in North America in November 2006, and in Japan, Europe, and Australia the following month. The GameCube version was released worldwide in December 2006.[b]</td>\n",
              "      <td>What category of game is Legend of Zelda: Australia Twilight?</td>\n",
              "      <td>{'text': [], 'answer_start': []}</td>\n",
              "    </tr>\n",
              "    <tr>\n",
              "      <th>1</th>\n",
              "      <td>5a8d7bf7df8bba001a0f9ab2</td>\n",
              "      <td>The_Legend_of_Zelda:_Twilight_Princess</td>\n",
              "      <td>The Legend of Zelda: Twilight Princess (Japanese: ゼルダの伝説 トワイライトプリンセス, Hepburn: Zeruda no Densetsu: Towairaito Purinsesu?) is an action-adventure game developed and published by Nintendo for the GameCube and Wii home video game consoles. It is the thirteenth installment in the The Legend of Zelda series. Originally planned for release on the GameCube in November 2005, Twilight Princess was delayed by Nintendo to allow its developers to refine the game, add more content, and port it to the Wii. The Wii version was released alongside the console in North America in November 2006, and in Japan, Europe, and Australia the following month. The GameCube version was released worldwide in December 2006.[b]</td>\n",
              "      <td>What consoles can be used to play Australia Twilight?</td>\n",
              "      <td>{'text': [], 'answer_start': []}</td>\n",
              "    </tr>\n",
              "    <tr>\n",
              "      <th>2</th>\n",
              "      <td>5a8d7bf7df8bba001a0f9ab3</td>\n",
              "      <td>The_Legend_of_Zelda:_Twilight_Princess</td>\n",
              "      <td>The Legend of Zelda: Twilight Princess (Japanese: ゼルダの伝説 トワイライトプリンセス, Hepburn: Zeruda no Densetsu: Towairaito Purinsesu?) is an action-adventure game developed and published by Nintendo for the GameCube and Wii home video game consoles. It is the thirteenth installment in the The Legend of Zelda series. Originally planned for release on the GameCube in November 2005, Twilight Princess was delayed by Nintendo to allow its developers to refine the game, add more content, and port it to the Wii. The Wii version was released alongside the console in North America in November 2006, and in Japan, Europe, and Australia the following month. The GameCube version was released worldwide in December 2006.[b]</td>\n",
              "      <td>When was Australia Twilight launched in North America?</td>\n",
              "      <td>{'text': [], 'answer_start': []}</td>\n",
              "    </tr>\n",
              "  </tbody>\n",
              "</table>"
            ]
          },
          "metadata": {}
        }
      ]
    },
    {
      "cell_type": "code",
      "source": [
        "count = 0\n",
        "\n",
        "# Iterate through the dataset\n",
        "for example in squad_train:\n",
        "    question = example[\"question\"]\n",
        "    answer = example[\"answers\"][\"text\"]\n",
        "\n",
        "    # Check if the answer is empty\n",
        "    if len(answer) == 0:\n",
        "        print(f\"Empty answer detected for question: {question}\")\n",
        "        count += 1\n",
        "\n",
        "    # Check if we have found 5 questions without an answer\n",
        "    if count == 5:\n",
        "        break"
      ],
      "metadata": {
        "colab": {
          "base_uri": "https://localhost:8080/"
        },
        "id": "WEP58YhiV-UZ",
        "outputId": "26e12199-b9e2-459b-8482-faa62cc67cad"
      },
      "execution_count": 34,
      "outputs": [
        {
          "output_type": "stream",
          "name": "stdout",
          "text": [
            "Empty answer detected for question: What category of game is Legend of Zelda: Australia Twilight?\n",
            "Empty answer detected for question: What consoles can be used to play Australia Twilight?\n",
            "Empty answer detected for question: When was Australia Twilight launched in North America?\n",
            "Empty answer detected for question: When could GameCube owners purchase Australian Princess?\n",
            "Empty answer detected for question: What year was the Legend of Zelda: Australian Princess originally planned for release?\n"
          ]
        }
      ]
    },
    {
      "cell_type": "code",
      "source": [
        "# Count the number of answered questions\n",
        "answered_count = sum(len(example[\"answers\"][\"text\"]) > 0 for example in squad_train)\n",
        "\n",
        "print(\"Number of answered questions:\", answered_count)"
      ],
      "metadata": {
        "colab": {
          "base_uri": "https://localhost:8080/"
        },
        "id": "BMk_i6Z2XroN",
        "outputId": "d2bef8fd-2d52-40fe-99fe-5dec3e85dd1e"
      },
      "execution_count": 40,
      "outputs": [
        {
          "output_type": "stream",
          "name": "stdout",
          "text": [
            "Number of answered questions: 86821\n"
          ]
        }
      ]
    },
    {
      "cell_type": "code",
      "source": [
        "# Count the number of unanswered questions\n",
        "unanswered_count = sum(len(example[\"answers\"][\"text\"]) == 0 for example in squad_train)\n",
        "\n",
        "print(\"Number of unanswered questions:\", unanswered_count)"
      ],
      "metadata": {
        "colab": {
          "base_uri": "https://localhost:8080/"
        },
        "id": "mpjY8-XtYmFf",
        "outputId": "f1967007-579c-497b-841e-9f0397923ddb"
      },
      "execution_count": 41,
      "outputs": [
        {
          "output_type": "stream",
          "name": "stdout",
          "text": [
            "Number of unanswered questions: 43498\n"
          ]
        }
      ]
    },
    {
      "cell_type": "code",
      "source": [],
      "metadata": {
        "id": "1b88Vi9ZY73X"
      },
      "execution_count": null,
      "outputs": []
    }
  ]
}