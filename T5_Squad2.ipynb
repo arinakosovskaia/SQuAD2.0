{
  "nbformat": 4,
  "nbformat_minor": 0,
  "metadata": {
    "colab": {
      "provenance": [],
      "gpuType": "T4",
      "authorship_tag": "ABX9TyNoRPbAyneyNM69MnLNZhM7",
      "include_colab_link": true
    },
    "kernelspec": {
      "name": "python3",
      "display_name": "Python 3"
    },
    "language_info": {
      "name": "python"
    },
    "accelerator": "GPU",
    "gpuClass": "standard",
    "widgets": {
      "application/vnd.jupyter.widget-state+json": {
        "f315ac55d5324b27a6398f9dad930d16": {
          "model_module": "@jupyter-widgets/controls",
          "model_name": "HBoxModel",
          "model_module_version": "1.5.0",
          "state": {
            "_dom_classes": [],
            "_model_module": "@jupyter-widgets/controls",
            "_model_module_version": "1.5.0",
            "_model_name": "HBoxModel",
            "_view_count": null,
            "_view_module": "@jupyter-widgets/controls",
            "_view_module_version": "1.5.0",
            "_view_name": "HBoxView",
            "box_style": "",
            "children": [
              "IPY_MODEL_c5eb071292da45f9ba63f79c022a54d3",
              "IPY_MODEL_623436fc8bd944dfb26aaa0069e5f638",
              "IPY_MODEL_e196d4e3e8074ea88fb7bcb99e0f3abe"
            ],
            "layout": "IPY_MODEL_0d01f3f807fb49ed8aa0315c00b5142d"
          }
        },
        "c5eb071292da45f9ba63f79c022a54d3": {
          "model_module": "@jupyter-widgets/controls",
          "model_name": "HTMLModel",
          "model_module_version": "1.5.0",
          "state": {
            "_dom_classes": [],
            "_model_module": "@jupyter-widgets/controls",
            "_model_module_version": "1.5.0",
            "_model_name": "HTMLModel",
            "_view_count": null,
            "_view_module": "@jupyter-widgets/controls",
            "_view_module_version": "1.5.0",
            "_view_name": "HTMLView",
            "description": "",
            "description_tooltip": null,
            "layout": "IPY_MODEL_b9b4dd90bdbc40baa49e819eb05b5a8a",
            "placeholder": "​",
            "style": "IPY_MODEL_591a4a45008647ae97fa98779798d0da",
            "value": ""
          }
        },
        "623436fc8bd944dfb26aaa0069e5f638": {
          "model_module": "@jupyter-widgets/controls",
          "model_name": "FloatProgressModel",
          "model_module_version": "1.5.0",
          "state": {
            "_dom_classes": [],
            "_model_module": "@jupyter-widgets/controls",
            "_model_module_version": "1.5.0",
            "_model_name": "FloatProgressModel",
            "_view_count": null,
            "_view_module": "@jupyter-widgets/controls",
            "_view_module_version": "1.5.0",
            "_view_name": "ProgressView",
            "bar_style": "success",
            "description": "",
            "description_tooltip": null,
            "layout": "IPY_MODEL_2f94f583af0f497ca0a91cd48122e05b",
            "max": 1,
            "min": 0,
            "orientation": "horizontal",
            "style": "IPY_MODEL_8bb6581130bd4bbd8c0d7ba11315d606",
            "value": 0
          }
        },
        "e196d4e3e8074ea88fb7bcb99e0f3abe": {
          "model_module": "@jupyter-widgets/controls",
          "model_name": "HTMLModel",
          "model_module_version": "1.5.0",
          "state": {
            "_dom_classes": [],
            "_model_module": "@jupyter-widgets/controls",
            "_model_module_version": "1.5.0",
            "_model_name": "HTMLModel",
            "_view_count": null,
            "_view_module": "@jupyter-widgets/controls",
            "_view_module_version": "1.5.0",
            "_view_name": "HTMLView",
            "description": "",
            "description_tooltip": null,
            "layout": "IPY_MODEL_05405296c5934695aef82d38543e4f31",
            "placeholder": "​",
            "style": "IPY_MODEL_62375193365c44d69c1349b77be61d2f",
            "value": " 0/0 [00:00&lt;?, ?it/s]"
          }
        },
        "0d01f3f807fb49ed8aa0315c00b5142d": {
          "model_module": "@jupyter-widgets/base",
          "model_name": "LayoutModel",
          "model_module_version": "1.2.0",
          "state": {
            "_model_module": "@jupyter-widgets/base",
            "_model_module_version": "1.2.0",
            "_model_name": "LayoutModel",
            "_view_count": null,
            "_view_module": "@jupyter-widgets/base",
            "_view_module_version": "1.2.0",
            "_view_name": "LayoutView",
            "align_content": null,
            "align_items": null,
            "align_self": null,
            "border": null,
            "bottom": null,
            "display": null,
            "flex": null,
            "flex_flow": null,
            "grid_area": null,
            "grid_auto_columns": null,
            "grid_auto_flow": null,
            "grid_auto_rows": null,
            "grid_column": null,
            "grid_gap": null,
            "grid_row": null,
            "grid_template_areas": null,
            "grid_template_columns": null,
            "grid_template_rows": null,
            "height": null,
            "justify_content": null,
            "justify_items": null,
            "left": null,
            "margin": null,
            "max_height": null,
            "max_width": null,
            "min_height": null,
            "min_width": null,
            "object_fit": null,
            "object_position": null,
            "order": null,
            "overflow": null,
            "overflow_x": null,
            "overflow_y": null,
            "padding": null,
            "right": null,
            "top": null,
            "visibility": null,
            "width": null
          }
        },
        "b9b4dd90bdbc40baa49e819eb05b5a8a": {
          "model_module": "@jupyter-widgets/base",
          "model_name": "LayoutModel",
          "model_module_version": "1.2.0",
          "state": {
            "_model_module": "@jupyter-widgets/base",
            "_model_module_version": "1.2.0",
            "_model_name": "LayoutModel",
            "_view_count": null,
            "_view_module": "@jupyter-widgets/base",
            "_view_module_version": "1.2.0",
            "_view_name": "LayoutView",
            "align_content": null,
            "align_items": null,
            "align_self": null,
            "border": null,
            "bottom": null,
            "display": null,
            "flex": null,
            "flex_flow": null,
            "grid_area": null,
            "grid_auto_columns": null,
            "grid_auto_flow": null,
            "grid_auto_rows": null,
            "grid_column": null,
            "grid_gap": null,
            "grid_row": null,
            "grid_template_areas": null,
            "grid_template_columns": null,
            "grid_template_rows": null,
            "height": null,
            "justify_content": null,
            "justify_items": null,
            "left": null,
            "margin": null,
            "max_height": null,
            "max_width": null,
            "min_height": null,
            "min_width": null,
            "object_fit": null,
            "object_position": null,
            "order": null,
            "overflow": null,
            "overflow_x": null,
            "overflow_y": null,
            "padding": null,
            "right": null,
            "top": null,
            "visibility": null,
            "width": null
          }
        },
        "591a4a45008647ae97fa98779798d0da": {
          "model_module": "@jupyter-widgets/controls",
          "model_name": "DescriptionStyleModel",
          "model_module_version": "1.5.0",
          "state": {
            "_model_module": "@jupyter-widgets/controls",
            "_model_module_version": "1.5.0",
            "_model_name": "DescriptionStyleModel",
            "_view_count": null,
            "_view_module": "@jupyter-widgets/base",
            "_view_module_version": "1.2.0",
            "_view_name": "StyleView",
            "description_width": ""
          }
        },
        "2f94f583af0f497ca0a91cd48122e05b": {
          "model_module": "@jupyter-widgets/base",
          "model_name": "LayoutModel",
          "model_module_version": "1.2.0",
          "state": {
            "_model_module": "@jupyter-widgets/base",
            "_model_module_version": "1.2.0",
            "_model_name": "LayoutModel",
            "_view_count": null,
            "_view_module": "@jupyter-widgets/base",
            "_view_module_version": "1.2.0",
            "_view_name": "LayoutView",
            "align_content": null,
            "align_items": null,
            "align_self": null,
            "border": null,
            "bottom": null,
            "display": null,
            "flex": null,
            "flex_flow": null,
            "grid_area": null,
            "grid_auto_columns": null,
            "grid_auto_flow": null,
            "grid_auto_rows": null,
            "grid_column": null,
            "grid_gap": null,
            "grid_row": null,
            "grid_template_areas": null,
            "grid_template_columns": null,
            "grid_template_rows": null,
            "height": null,
            "justify_content": null,
            "justify_items": null,
            "left": null,
            "margin": null,
            "max_height": null,
            "max_width": null,
            "min_height": null,
            "min_width": null,
            "object_fit": null,
            "object_position": null,
            "order": null,
            "overflow": null,
            "overflow_x": null,
            "overflow_y": null,
            "padding": null,
            "right": null,
            "top": null,
            "visibility": null,
            "width": "20px"
          }
        },
        "8bb6581130bd4bbd8c0d7ba11315d606": {
          "model_module": "@jupyter-widgets/controls",
          "model_name": "ProgressStyleModel",
          "model_module_version": "1.5.0",
          "state": {
            "_model_module": "@jupyter-widgets/controls",
            "_model_module_version": "1.5.0",
            "_model_name": "ProgressStyleModel",
            "_view_count": null,
            "_view_module": "@jupyter-widgets/base",
            "_view_module_version": "1.2.0",
            "_view_name": "StyleView",
            "bar_color": null,
            "description_width": ""
          }
        },
        "05405296c5934695aef82d38543e4f31": {
          "model_module": "@jupyter-widgets/base",
          "model_name": "LayoutModel",
          "model_module_version": "1.2.0",
          "state": {
            "_model_module": "@jupyter-widgets/base",
            "_model_module_version": "1.2.0",
            "_model_name": "LayoutModel",
            "_view_count": null,
            "_view_module": "@jupyter-widgets/base",
            "_view_module_version": "1.2.0",
            "_view_name": "LayoutView",
            "align_content": null,
            "align_items": null,
            "align_self": null,
            "border": null,
            "bottom": null,
            "display": null,
            "flex": null,
            "flex_flow": null,
            "grid_area": null,
            "grid_auto_columns": null,
            "grid_auto_flow": null,
            "grid_auto_rows": null,
            "grid_column": null,
            "grid_gap": null,
            "grid_row": null,
            "grid_template_areas": null,
            "grid_template_columns": null,
            "grid_template_rows": null,
            "height": null,
            "justify_content": null,
            "justify_items": null,
            "left": null,
            "margin": null,
            "max_height": null,
            "max_width": null,
            "min_height": null,
            "min_width": null,
            "object_fit": null,
            "object_position": null,
            "order": null,
            "overflow": null,
            "overflow_x": null,
            "overflow_y": null,
            "padding": null,
            "right": null,
            "top": null,
            "visibility": null,
            "width": null
          }
        },
        "62375193365c44d69c1349b77be61d2f": {
          "model_module": "@jupyter-widgets/controls",
          "model_name": "DescriptionStyleModel",
          "model_module_version": "1.5.0",
          "state": {
            "_model_module": "@jupyter-widgets/controls",
            "_model_module_version": "1.5.0",
            "_model_name": "DescriptionStyleModel",
            "_view_count": null,
            "_view_module": "@jupyter-widgets/base",
            "_view_module_version": "1.2.0",
            "_view_name": "StyleView",
            "description_width": ""
          }
        }
      }
    }
  },
  "cells": [
    {
      "cell_type": "markdown",
      "metadata": {
        "id": "view-in-github",
        "colab_type": "text"
      },
      "source": [
        "<a href=\"https://colab.research.google.com/github/arinakosovskaia/SQuAD2.0/blob/main/T5_Squad2.ipynb\" target=\"_parent\"><img src=\"https://colab.research.google.com/assets/colab-badge.svg\" alt=\"Open In Colab\"/></a>"
      ]
    },
    {
      "cell_type": "code",
      "execution_count": 1,
      "metadata": {
        "id": "pTDpQxBdEUlu",
        "colab": {
          "base_uri": "https://localhost:8080/"
        },
        "outputId": "0781b9cf-b6a7-4841-a514-4854055fde3f"
      },
      "outputs": [
        {
          "output_type": "stream",
          "name": "stdout",
          "text": [
            "Drive already mounted at /content/drive; to attempt to forcibly remount, call drive.mount(\"/content/drive\", force_remount=True).\n"
          ]
        }
      ],
      "source": [
        "from google.colab import drive\n",
        "drive.mount('/content/drive')"
      ]
    },
    {
      "cell_type": "code",
      "source": [
        "import os\n",
        "os.chdir('/content/drive/MyDrive/Colab Notebooks/Practical_09/tutorial_9_revised')\n",
        "os.getcwd()"
      ],
      "metadata": {
        "id": "CJ6aAE6NEaER",
        "colab": {
          "base_uri": "https://localhost:8080/",
          "height": 35
        },
        "outputId": "68475804-046b-48f8-fa7d-ddab7127650f"
      },
      "execution_count": 2,
      "outputs": [
        {
          "output_type": "execute_result",
          "data": {
            "text/plain": [
              "'/content/drive/MyDrive/Colab Notebooks/Practical_09/tutorial_9_revised'"
            ],
            "application/vnd.google.colaboratory.intrinsic+json": {
              "type": "string"
            }
          },
          "metadata": {},
          "execution_count": 2
        }
      ]
    },
    {
      "cell_type": "code",
      "source": [
        "!pip -q install datasets"
      ],
      "metadata": {
        "id": "GzKJ6IsKEfl5"
      },
      "execution_count": 3,
      "outputs": []
    },
    {
      "cell_type": "code",
      "source": [
        "import datasets\n",
        "\n",
        "squad2_qa = datasets.load_dataset('squad_v2', split='validation')\n",
        "squad2_qa[:5]"
      ],
      "metadata": {
        "id": "LcgUgDxdEiYd",
        "colab": {
          "base_uri": "https://localhost:8080/"
        },
        "outputId": "736bdfdc-6745-437b-f857-797221cb0b50"
      },
      "execution_count": 4,
      "outputs": [
        {
          "output_type": "stream",
          "name": "stderr",
          "text": [
            "WARNING:datasets.builder:Found cached dataset squad_v2 (/root/.cache/huggingface/datasets/squad_v2/squad_v2/2.0.0/09187c73c1b837c95d9a249cd97c2c3f1cebada06efe667b4427714b27639b1d)\n"
          ]
        },
        {
          "output_type": "execute_result",
          "data": {
            "text/plain": [
              "{'id': ['56ddde6b9a695914005b9628',\n",
              "  '56ddde6b9a695914005b9629',\n",
              "  '56ddde6b9a695914005b962a',\n",
              "  '56ddde6b9a695914005b962b',\n",
              "  '56ddde6b9a695914005b962c'],\n",
              " 'title': ['Normans', 'Normans', 'Normans', 'Normans', 'Normans'],\n",
              " 'context': ['The Normans (Norman: Nourmands; French: Normands; Latin: Normanni) were the people who in the 10th and 11th centuries gave their name to Normandy, a region in France. They were descended from Norse (\"Norman\" comes from \"Norseman\") raiders and pirates from Denmark, Iceland and Norway who, under their leader Rollo, agreed to swear fealty to King Charles III of West Francia. Through generations of assimilation and mixing with the native Frankish and Roman-Gaulish populations, their descendants would gradually merge with the Carolingian-based cultures of West Francia. The distinct cultural and ethnic identity of the Normans emerged initially in the first half of the 10th century, and it continued to evolve over the succeeding centuries.',\n",
              "  'The Normans (Norman: Nourmands; French: Normands; Latin: Normanni) were the people who in the 10th and 11th centuries gave their name to Normandy, a region in France. They were descended from Norse (\"Norman\" comes from \"Norseman\") raiders and pirates from Denmark, Iceland and Norway who, under their leader Rollo, agreed to swear fealty to King Charles III of West Francia. Through generations of assimilation and mixing with the native Frankish and Roman-Gaulish populations, their descendants would gradually merge with the Carolingian-based cultures of West Francia. The distinct cultural and ethnic identity of the Normans emerged initially in the first half of the 10th century, and it continued to evolve over the succeeding centuries.',\n",
              "  'The Normans (Norman: Nourmands; French: Normands; Latin: Normanni) were the people who in the 10th and 11th centuries gave their name to Normandy, a region in France. They were descended from Norse (\"Norman\" comes from \"Norseman\") raiders and pirates from Denmark, Iceland and Norway who, under their leader Rollo, agreed to swear fealty to King Charles III of West Francia. Through generations of assimilation and mixing with the native Frankish and Roman-Gaulish populations, their descendants would gradually merge with the Carolingian-based cultures of West Francia. The distinct cultural and ethnic identity of the Normans emerged initially in the first half of the 10th century, and it continued to evolve over the succeeding centuries.',\n",
              "  'The Normans (Norman: Nourmands; French: Normands; Latin: Normanni) were the people who in the 10th and 11th centuries gave their name to Normandy, a region in France. They were descended from Norse (\"Norman\" comes from \"Norseman\") raiders and pirates from Denmark, Iceland and Norway who, under their leader Rollo, agreed to swear fealty to King Charles III of West Francia. Through generations of assimilation and mixing with the native Frankish and Roman-Gaulish populations, their descendants would gradually merge with the Carolingian-based cultures of West Francia. The distinct cultural and ethnic identity of the Normans emerged initially in the first half of the 10th century, and it continued to evolve over the succeeding centuries.',\n",
              "  'The Normans (Norman: Nourmands; French: Normands; Latin: Normanni) were the people who in the 10th and 11th centuries gave their name to Normandy, a region in France. They were descended from Norse (\"Norman\" comes from \"Norseman\") raiders and pirates from Denmark, Iceland and Norway who, under their leader Rollo, agreed to swear fealty to King Charles III of West Francia. Through generations of assimilation and mixing with the native Frankish and Roman-Gaulish populations, their descendants would gradually merge with the Carolingian-based cultures of West Francia. The distinct cultural and ethnic identity of the Normans emerged initially in the first half of the 10th century, and it continued to evolve over the succeeding centuries.'],\n",
              " 'question': ['In what country is Normandy located?',\n",
              "  'When were the Normans in Normandy?',\n",
              "  'From which countries did the Norse originate?',\n",
              "  'Who was the Norse leader?',\n",
              "  'What century did the Normans first gain their separate identity?'],\n",
              " 'answers': [{'text': ['France', 'France', 'France', 'France'],\n",
              "   'answer_start': [159, 159, 159, 159]},\n",
              "  {'text': ['10th and 11th centuries',\n",
              "    'in the 10th and 11th centuries',\n",
              "    '10th and 11th centuries',\n",
              "    '10th and 11th centuries'],\n",
              "   'answer_start': [94, 87, 94, 94]},\n",
              "  {'text': ['Denmark, Iceland and Norway',\n",
              "    'Denmark, Iceland and Norway',\n",
              "    'Denmark, Iceland and Norway',\n",
              "    'Denmark, Iceland and Norway'],\n",
              "   'answer_start': [256, 256, 256, 256]},\n",
              "  {'text': ['Rollo', 'Rollo', 'Rollo', 'Rollo'],\n",
              "   'answer_start': [308, 308, 308, 308]},\n",
              "  {'text': ['10th century',\n",
              "    'the first half of the 10th century',\n",
              "    '10th',\n",
              "    '10th'],\n",
              "   'answer_start': [671, 649, 671, 671]}]}"
            ]
          },
          "metadata": {},
          "execution_count": 4
        }
      ]
    },
    {
      "cell_type": "code",
      "source": [
        "!pip -q install transformers==4.22.2\n",
        "!pip -q install -U sentence-transformers"
      ],
      "metadata": {
        "id": "WEl2AT2sEtSU"
      },
      "execution_count": 5,
      "outputs": []
    },
    {
      "cell_type": "code",
      "source": [
        "import os\n",
        "from sentence_transformers import util\n",
        "\n",
        "wikipedia_filepath = 'simplewiki-2020-11-01.jsonl.gz'\n",
        "if not os.path.exists(wikipedia_filepath):\n",
        "    util.http_get('http://sbert.net/datasets/simplewiki-2020-11-01.jsonl.gz', wikipedia_filepath)"
      ],
      "metadata": {
        "id": "bGEH3EXhGtUz",
        "colab": {
          "base_uri": "https://localhost:8080/",
          "height": 105,
          "referenced_widgets": [
            "f315ac55d5324b27a6398f9dad930d16",
            "c5eb071292da45f9ba63f79c022a54d3",
            "623436fc8bd944dfb26aaa0069e5f638",
            "e196d4e3e8074ea88fb7bcb99e0f3abe",
            "0d01f3f807fb49ed8aa0315c00b5142d",
            "b9b4dd90bdbc40baa49e819eb05b5a8a",
            "591a4a45008647ae97fa98779798d0da",
            "2f94f583af0f497ca0a91cd48122e05b",
            "8bb6581130bd4bbd8c0d7ba11315d606",
            "05405296c5934695aef82d38543e4f31",
            "62375193365c44d69c1349b77be61d2f"
          ]
        },
        "outputId": "c6b7f493-eac8-4396-aa2f-e00e5c804d07"
      },
      "execution_count": 6,
      "outputs": [
        {
          "output_type": "stream",
          "name": "stderr",
          "text": [
            "The cache for model files in Transformers v4.22.0 has been updated. Migrating your old cache. This is a one-time only operation. You can interrupt this and resume the migration later on by calling `transformers.utils.move_cache()`.\n"
          ]
        },
        {
          "output_type": "stream",
          "name": "stdout",
          "text": [
            "Moving 0 files to the new cache system\n"
          ]
        },
        {
          "output_type": "display_data",
          "data": {
            "text/plain": [
              "0it [00:00, ?it/s]"
            ],
            "application/vnd.jupyter.widget-view+json": {
              "version_major": 2,
              "version_minor": 0,
              "model_id": "f315ac55d5324b27a6398f9dad930d16"
            }
          },
          "metadata": {}
        }
      ]
    },
    {
      "cell_type": "code",
      "source": [
        "import json\n",
        "import gzip\n",
        "\n",
        "# NOTE: Change this flag to use only first paragraph\n",
        "only_first = False\n",
        "\n",
        "passages = []\n",
        "# Open the file with the dump of Simple Wikipedia\n",
        "with gzip.open(wikipedia_filepath, 'rt', encoding='utf8') as f:\n",
        "    # Iterate over the lines\n",
        "    for line in f:\n",
        "        # Parse the document using JSON\n",
        "        data = json.loads(line.strip())\n",
        "        if only_first:\n",
        "            # Only add the first paragraph\n",
        "            passages.append(data['paragraphs'][0])\n",
        "        else:\n",
        "            # Add all paragraphs\n",
        "            passages.extend(data['paragraphs'])\n",
        "\n",
        "print(f\"Retrieved {len(passages)} passages\")"
      ],
      "metadata": {
        "id": "uvLgTV88Gy7y",
        "colab": {
          "base_uri": "https://localhost:8080/"
        },
        "outputId": "53fc7a37-c808-47f4-c2bb-77c51d026e7d"
      },
      "execution_count": 7,
      "outputs": [
        {
          "output_type": "stream",
          "name": "stdout",
          "text": [
            "Retrieved 509663 passages\n"
          ]
        }
      ]
    },
    {
      "cell_type": "code",
      "source": [
        "from sentence_transformers import SentenceTransformer, CrossEncoder\n",
        "\n",
        "semb_model = SentenceTransformer('multi-qa-MiniLM-L6-cos-v1')\n",
        "xenc_model = CrossEncoder('cross-encoder/ms-marco-MiniLM-L-6-v2')"
      ],
      "metadata": {
        "id": "D-lwY90xG2u5"
      },
      "execution_count": 8,
      "outputs": []
    },
    {
      "cell_type": "code",
      "source": [
        "import os\n",
        "import pickle\n",
        "\n",
        "# Define hnswlib index path\n",
        "embeddings_cache_path = './qa_embeddings_cache.pkl'\n",
        "\n",
        "# Load cache if available\n",
        "if os.path.exists(embeddings_cache_path):\n",
        "    print('Loading embeddings cache')\n",
        "    with open(embeddings_cache_path, 'rb') as f:\n",
        "        corpus_embeddings = pickle.load(f)\n",
        "# Else compute embeddings\n",
        "else:\n",
        "    print('Computing embeddings')\n",
        "    corpus_embeddings = semb_model.encode(passages, convert_to_tensor=True, show_progress_bar=True)\n",
        "    # Save the index to a file for future loading\n",
        "    print(f'Saving index to: \\'{embeddings_cache_path}\\'')\n",
        "    with open(embeddings_cache_path, 'wb') as f:\n",
        "        pickle.dump(corpus_embeddings, f)"
      ],
      "metadata": {
        "id": "NuNPJNPsG62D",
        "colab": {
          "base_uri": "https://localhost:8080/"
        },
        "outputId": "52cfdf68-8dae-406f-fdb8-8b34de93b821"
      },
      "execution_count": 9,
      "outputs": [
        {
          "output_type": "stream",
          "name": "stdout",
          "text": [
            "Loading embeddings cache\n"
          ]
        }
      ]
    },
    {
      "cell_type": "code",
      "source": [
        "!pip -q install hnswlib"
      ],
      "metadata": {
        "id": "MBFnz3v6HBVC"
      },
      "execution_count": 10,
      "outputs": []
    },
    {
      "cell_type": "code",
      "source": [
        "import os\n",
        "import hnswlib\n",
        "\n",
        "# Create empthy index\n",
        "index = hnswlib.Index(space='cosine', dim=384)\n",
        "\n",
        "# Define hnswlib index path\n",
        "index_path = './qa_hnswlib.index'\n",
        "\n",
        "# Load index if available\n",
        "if os.path.exists(index_path):\n",
        "    print('Loading index...')\n",
        "    index.load_index(index_path)\n",
        "# Else index data collection\n",
        "else:\n",
        "    # Initialise the index\n",
        "    print('Start creating HNSWLIB index')\n",
        "    index.init_index(max_elements=corpus_embeddings.size(0), ef_construction=400, M=64)\n",
        "    #  Compute the HNSWLIB index (it may take a while)\n",
        "    index.add_items(corpus_embeddings.cpu(), list(range(len(corpus_embeddings))))\n",
        "    # Save the index to a file for future loading\n",
        "    print(f'Saving index to: {index_path}')\n",
        "    index.save_index(index_path)"
      ],
      "metadata": {
        "id": "8fi5ZFMnHEk1",
        "colab": {
          "base_uri": "https://localhost:8080/"
        },
        "outputId": "38c69a9c-678b-4786-eb1f-a098f9619e12"
      },
      "execution_count": 11,
      "outputs": [
        {
          "output_type": "stream",
          "name": "stdout",
          "text": [
            "Loading index...\n"
          ]
        }
      ]
    },
    {
      "cell_type": "code",
      "source": [
        "!pip -q install transformers sentencepiece accelerate"
      ],
      "metadata": {
        "id": "BEzJrTs72OUw"
      },
      "execution_count": 12,
      "outputs": []
    },
    {
      "cell_type": "code",
      "source": [
        "import torch\n",
        "from transformers import T5Tokenizer, T5ForConditionalGeneration\n",
        "\n",
        "device = torch.device('cuda' if torch.cuda.is_available() else 'cpu')\n",
        "\n",
        "tokenizer = T5Tokenizer.from_pretrained(\"google/flan-t5-large\")\n",
        "model = T5ForConditionalGeneration.from_pretrained(\"google/flan-t5-large\", device_map=\"auto\", torch_dtype=torch.float16)"
      ],
      "metadata": {
        "id": "DWMPInP_2l2S"
      },
      "execution_count": 13,
      "outputs": []
    },
    {
      "cell_type": "code",
      "source": [
        "input_text = \"Translate the following sentence from English to Romanian: \\\"Daria is the best and loves to cook\\\"\"\n",
        "input_ids = tokenizer(input_text, return_tensors=\"pt\").input_ids.to(device)\n",
        "\n",
        "output_ids = model.generate(input_ids, max_new_tokens=32)\n",
        "output_text = tokenizer.decode(output_ids[0])\n",
        "print(output_text)"
      ],
      "metadata": {
        "colab": {
          "base_uri": "https://localhost:8080/"
        },
        "id": "V6AzQAhn2nX9",
        "outputId": "a1389387-34b4-4ba6-e2f1-2ca9670d0325"
      },
      "execution_count": 14,
      "outputs": [
        {
          "output_type": "stream",
          "name": "stdout",
          "text": [
            "<pad> \"Daria este cea mai bună şi a o dragoste cu cozine\"</s>\n"
          ]
        }
      ]
    },
    {
      "cell_type": "code",
      "source": [
        "import random\n",
        "\n",
        "random.seed(1995)\n",
        "\n",
        "idx = random.choice(range(len(squad2_qa)))\n",
        "\n",
        "sample = squad2_qa[idx]\n",
        "sample"
      ],
      "metadata": {
        "colab": {
          "base_uri": "https://localhost:8080/"
        },
        "id": "D5EcDaB22w0Z",
        "outputId": "49e324d2-1838-4658-ddc4-b0dac7ddce98"
      },
      "execution_count": 16,
      "outputs": [
        {
          "output_type": "execute_result",
          "data": {
            "text/plain": [
              "{'id': '5ad28846d7d075001a429931',\n",
              " 'title': 'Force',\n",
              " 'context': \"Torque is the rotation equivalent of force in the same way that angle is the rotational equivalent for position, angular velocity for velocity, and angular momentum for momentum. As a consequence of Newton's First Law of Motion, there exists rotational inertia that ensures that all bodies maintain their angular momentum unless acted upon by an unbalanced torque. Likewise, Newton's Second Law of Motion can be used to derive an analogous equation for the instantaneous angular acceleration of the rigid body:\",\n",
              " 'question': \"Which of Newton's Laws described a rotational inertia equation?\",\n",
              " 'answers': {'text': [], 'answer_start': []}}"
            ]
          },
          "metadata": {},
          "execution_count": 16
        }
      ]
    },
    {
      "cell_type": "code",
      "source": [
        "question = sample['question']\n",
        "question"
      ],
      "metadata": {
        "colab": {
          "base_uri": "https://localhost:8080/",
          "height": 35
        },
        "id": "cNX1gred4jCf",
        "outputId": "0d8804f5-4c49-4957-9129-69aae1d28940"
      },
      "execution_count": 17,
      "outputs": [
        {
          "output_type": "execute_result",
          "data": {
            "text/plain": [
              "\"Which of Newton's Laws described a rotational inertia equation?\""
            ],
            "application/vnd.google.colaboratory.intrinsic+json": {
              "type": "string"
            }
          },
          "metadata": {},
          "execution_count": 17
        }
      ]
    },
    {
      "cell_type": "code",
      "source": [
        "target_answer = sample['answers']['text']\n",
        "target_answer"
      ],
      "metadata": {
        "colab": {
          "base_uri": "https://localhost:8080/"
        },
        "id": "Tc17PrGh48ue",
        "outputId": "ae6e3847-a35f-4ba3-b034-61bf03a5a81b"
      },
      "execution_count": 21,
      "outputs": [
        {
          "output_type": "execute_result",
          "data": {
            "text/plain": [
              "[]"
            ]
          },
          "metadata": {},
          "execution_count": 21
        }
      ]
    },
    {
      "cell_type": "code",
      "source": [
        "print(f'Question {idx}: {question}?')"
      ],
      "metadata": {
        "colab": {
          "base_uri": "https://localhost:8080/"
        },
        "id": "WZ-X7oed4_O5",
        "outputId": "9c286d79-26ec-499c-a076-0921a972d92e"
      },
      "execution_count": 22,
      "outputs": [
        {
          "output_type": "stream",
          "name": "stdout",
          "text": [
            "Question 11828: Which of Newton's Laws described a rotational inertia equation??\n"
          ]
        }
      ]
    },
    {
      "cell_type": "code",
      "source": [
        "question_embedding = semb_model.encode(question, convert_to_tensor=True)"
      ],
      "metadata": {
        "id": "5YajSWD55N5i"
      },
      "execution_count": 24,
      "outputs": []
    },
    {
      "cell_type": "code",
      "source": [
        "corpus_ids, distances = index.knn_query(question_embedding.cpu(), k=64)\n",
        "scores = 1 - distances\n",
        "\n",
        "print(\"Cosine similarity model search results\")\n",
        "print(f\"Query: \\\"{question}\\\"\")\n",
        "print(\"---------------------------------------\")\n",
        "for idx, score in zip(corpus_ids[0][:5], scores[0][:5]):\n",
        "    print(f\"Score: {score:.4f}\\nDocument: \\\"{passages[idx]}\\\"\\n\\n\")"
      ],
      "metadata": {
        "colab": {
          "base_uri": "https://localhost:8080/"
        },
        "id": "bTRKebxk5Ay_",
        "outputId": "571bcb4c-5c8c-4ad5-f561-f76bd0e60de0"
      },
      "execution_count": 25,
      "outputs": [
        {
          "output_type": "stream",
          "name": "stdout",
          "text": [
            "Cosine similarity model search results\n",
            "Query: \"Which of Newton's Laws described a rotational inertia equation?\"\n",
            "---------------------------------------\n",
            "Score: 0.5642\n",
            "Document: \"The formula invented by Newton is called the \"Law of gravitation\".\"\n",
            "\n",
            "\n",
            "Score: 0.5627\n",
            "Document: \"Isaac Newton developed three laws of motion that are fundamental to dynamics.\"\n",
            "\n",
            "\n",
            "Score: 0.5608\n",
            "Document: \"Moment of inertia (formula_1), also called \"angular mass\" (kg·m), is the inertia of a rotating body with respect to its rotation.\"\n",
            "\n",
            "\n",
            "Score: 0.5606\n",
            "Document: \"Rotation is the movement of an object in a circular motion.\"\n",
            "\n",
            "\n",
            "Score: 0.5559\n",
            "Document: \"Inertia is the resistance of the object to any change in its motion, including a change in direction. An object will stay still or keep moving at the same speed and in a straight line, unless it is acted upon by an external unbalanced force.\"\n",
            "\n",
            "\n"
          ]
        }
      ]
    },
    {
      "cell_type": "code",
      "source": [
        "import numpy as np\n",
        "\n",
        "model_inputs = [(question, passages[idx]) for idx in corpus_ids[0]]\n",
        "cross_scores = xenc_model.predict(model_inputs)\n",
        "\n",
        "print(\"Cross-encoder model re-ranking results\")\n",
        "print(f\"Query: \\\"{question}\\\"\")\n",
        "print(\"---------------------------------------\")\n",
        "for idx in np.argsort(-cross_scores)[:5]:\n",
        "    print(f\"Score: {cross_scores[idx]:.4f}\\nDocument: \\\"{passages[corpus_ids[0][idx]]}\\\"\\n\\n\")"
      ],
      "metadata": {
        "colab": {
          "base_uri": "https://localhost:8080/"
        },
        "id": "VvdQJ_sK5KtP",
        "outputId": "43b3143f-0d03-4c05-9f42-a8e85f789246"
      },
      "execution_count": 26,
      "outputs": [
        {
          "output_type": "stream",
          "name": "stdout",
          "text": [
            "Cross-encoder model re-ranking results\n",
            "Query: \"Which of Newton's Laws described a rotational inertia equation?\"\n",
            "---------------------------------------\n",
            "Score: 2.1127\n",
            "Document: \"In 1687 Isaac Newton published the \"Principia\". He included a proof that a rotating self-gravitating fluid body in equilibrium takes the form of an oblate ellipsoid of revolution (a spheroid). The amount of flattening depends on the density and the balance of gravitational force and centrifugal force.\"\n",
            "\n",
            "\n",
            "Score: 1.4326\n",
            "Document: \"From a practical point of view, this means that Newton's laws of motion are valid in all inertial systems, which means those at rest or those moving with constant speed relative to one considered at rest. This is the law of inertia: a body at rest continues at rest and a body in motion continues in motion in a straight line unless influenced by an external force. A Galilean coordinate system is one where the law of inertia is valid. The laws of mechanics of Galileo and Newton are valid in a Galilean coordinate system. If K is a Galilean coordinate system, then every other system K' is a Galilean coordinate system if it lies at rest or moves according to the law of inertia relative to K. Relative to K', the mechanical laws of Galileo and Newton are as valid as they are relative to K.\"\n",
            "\n",
            "\n",
            "Score: 1.2991\n",
            "Document: \"Newton's second law of motion states that F = ma, where F is the force applied, m is the mass of the object receiving the force, and a is the acceleration of the object. The newton is therefore:[2]\"\n",
            "\n",
            "\n",
            "Score: 1.1640\n",
            "Document: \"Newton's Third Law of Motion describes the transfer of energy for reaction turbines.\"\n",
            "\n",
            "\n",
            "Score: 0.8678\n",
            "Document: \"Newton's Second Law of Motion describes the transfer of energy for impulse turbines.\"\n",
            "\n",
            "\n"
          ]
        }
      ]
    },
    {
      "cell_type": "code",
      "source": [
        "passage_idx = np.argsort(-cross_scores)[0]\n",
        "passage = passages[corpus_ids[0][passage_idx]]\n",
        "\n",
        "input_text = f\"Given the following passage, answer the related question.\\n\\nPassage:\\n\\n{passage}\\n\\nQ: {question}?\"\n",
        "input_ids = tokenizer(input_text, return_tensors=\"pt\").input_ids.to(device)\n",
        "print(input_text, \"\\n\")\n",
        "\n",
        "output_ids = model.generate(input_ids, max_new_tokens=32)\n",
        "output_text = tokenizer.decode(output_ids[0], skip_special_tokens=True)\n",
        "print(output_text, \"\\n\")\n",
        "\n",
        "print(f\"A (target): {target_answer}\")"
      ],
      "metadata": {
        "colab": {
          "base_uri": "https://localhost:8080/"
        },
        "id": "-1n6BL7A5V7B",
        "outputId": "b33f126a-2d8b-4c2c-98f2-e194bb544561"
      },
      "execution_count": 27,
      "outputs": [
        {
          "output_type": "stream",
          "name": "stdout",
          "text": [
            "Given the following passage, answer the related question.\n",
            "\n",
            "Passage:\n",
            "\n",
            "In 1687 Isaac Newton published the \"Principia\". He included a proof that a rotating self-gravitating fluid body in equilibrium takes the form of an oblate ellipsoid of revolution (a spheroid). The amount of flattening depends on the density and the balance of gravitational force and centrifugal force.\n",
            "\n",
            "Q: Which of Newton's Laws described a rotational inertia equation?? \n",
            "\n",
            "Newton's Law of Inertia \n",
            "\n",
            "A (target): []\n"
          ]
        }
      ]
    },
    {
      "cell_type": "code",
      "source": [
        "#should be no answer lalalalaaa\n",
        "input_text = f\"Answer the following question.\\n\\nQ: {question}?\"\n",
        "input_ids = tokenizer(input_text, return_tensors=\"pt\").input_ids.to(device)\n",
        "print(input_text)\n",
        "\n",
        "output_ids = model.generate(input_ids, max_new_tokens=32)\n",
        "output_text = tokenizer.decode(output_ids[0], skip_special_tokens=True)\n",
        "print(f\"\\nA: {output_text}\")"
      ],
      "metadata": {
        "colab": {
          "base_uri": "https://localhost:8080/"
        },
        "id": "2QEKomW75eej",
        "outputId": "1961f70d-bd4c-4002-e510-b794d6c92260"
      },
      "execution_count": 32,
      "outputs": [
        {
          "output_type": "stream",
          "name": "stdout",
          "text": [
            "Answer the following question.\n",
            "\n",
            "Q: Which of Newton's Laws described a rotational inertia equation??\n",
            "\n",
            "A: law of conservation of mass\n"
          ]
        }
      ]
    },
    {
      "cell_type": "code",
      "source": [],
      "metadata": {
        "id": "r-EP2KoM5zRm"
      },
      "execution_count": null,
      "outputs": []
    }
  ]
}